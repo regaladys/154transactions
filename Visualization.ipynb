{
 "cells": [
  {
   "cell_type": "code",
   "execution_count": 1,
   "metadata": {},
   "outputs": [],
   "source": [
    "import numpy as np\n",
    "import pandas as pd"
   ]
  },
  {
   "cell_type": "code",
   "execution_count": 15,
   "metadata": {},
   "outputs": [],
   "source": [
    "df = pd.read_csv('digits.csv')"
   ]
  },
  {
   "cell_type": "code",
   "execution_count": 16,
   "metadata": {},
   "outputs": [
    {
     "data": {
      "text/plain": [
       "(154, 1)"
      ]
     },
     "execution_count": 16,
     "metadata": {},
     "output_type": "execute_result"
    }
   ],
   "source": [
    "df.shape"
   ]
  },
  {
   "cell_type": "code",
   "execution_count": 7,
   "metadata": {},
   "outputs": [
    {
     "name": "stdout",
     "output_type": "stream",
     "text": [
      "0    2192949935501716900190050603100169660050016003...\n",
      "Name: 0, dtype: object\n"
     ]
    }
   ],
   "source": [
    "a = df.iloc[0]\n",
    "print a"
   ]
  },
  {
   "cell_type": "code",
   "execution_count": 49,
   "metadata": {},
   "outputs": [
    {
     "name": "stdout",
     "output_type": "stream",
     "text": [
      "2192949935501716900190050603100169660050016003099208172619153427001156520000042667711600034527300025857230731201246870205326005564\n"
     ]
    }
   ],
   "source": [
    "for i in a: print i"
   ]
  },
  {
   "cell_type": "markdown",
   "metadata": {},
   "source": [
    "Convert individual receipt digits string to values in an array"
   ]
  },
  {
   "cell_type": "code",
   "execution_count": 33,
   "metadata": {
    "collapsed": true
   },
   "outputs": [
    {
     "name": "stdout",
     "output_type": "stream",
     "text": [
      "2192949515501729617002800150004500100005500000000482450036003099208172019153007000156490000426647116000345273572307312005982086119030616160124687320190480205326059070\n"
     ]
    }
   ],
   "source": [
    "n = []\n",
    "for i in a:\n",
    "    for s in i.split():\n",
    "        t = int(s)\n",
    "        print t"
   ]
  },
  {
   "cell_type": "code",
   "execution_count": 35,
   "metadata": {
    "collapsed": true
   },
   "outputs": [
    {
     "data": {
      "text/html": [
       "<div>\n",
       "<style scoped>\n",
       "    .dataframe tbody tr th:only-of-type {\n",
       "        vertical-align: middle;\n",
       "    }\n",
       "\n",
       "    .dataframe tbody tr th {\n",
       "        vertical-align: top;\n",
       "    }\n",
       "\n",
       "    .dataframe thead th {\n",
       "        text-align: right;\n",
       "    }\n",
       "</style>\n",
       "<table border=\"1\" class=\"dataframe\">\n",
       "  <thead>\n",
       "    <tr style=\"text-align: right;\">\n",
       "      <th></th>\n",
       "      <th>A</th>\n",
       "    </tr>\n",
       "  </thead>\n",
       "  <tbody>\n",
       "    <tr>\n",
       "      <th>0</th>\n",
       "      <td>0</td>\n",
       "    </tr>\n",
       "    <tr>\n",
       "      <th>1</th>\n",
       "      <td>1</td>\n",
       "    </tr>\n",
       "    <tr>\n",
       "      <th>2</th>\n",
       "      <td>2</td>\n",
       "    </tr>\n",
       "    <tr>\n",
       "      <th>3</th>\n",
       "      <td>3</td>\n",
       "    </tr>\n",
       "    <tr>\n",
       "      <th>4</th>\n",
       "      <td>4</td>\n",
       "    </tr>\n",
       "  </tbody>\n",
       "</table>\n",
       "</div>"
      ],
      "text/plain": [
       "   A\n",
       "0  0\n",
       "1  1\n",
       "2  2\n",
       "3  3\n",
       "4  4"
      ]
     },
     "execution_count": 35,
     "metadata": {},
     "output_type": "execute_result"
    }
   ],
   "source": [
    "pd.concat([pd.DataFrame([i], columns=['A']) for i in range(5)], ignore_index=True)"
   ]
  },
  {
   "cell_type": "code",
   "execution_count": 45,
   "metadata": {},
   "outputs": [
    {
     "data": {
      "text/html": [
       "<div>\n",
       "<style scoped>\n",
       "    .dataframe tbody tr th:only-of-type {\n",
       "        vertical-align: middle;\n",
       "    }\n",
       "\n",
       "    .dataframe tbody tr th {\n",
       "        vertical-align: top;\n",
       "    }\n",
       "\n",
       "    .dataframe thead th {\n",
       "        text-align: right;\n",
       "    }\n",
       "</style>\n",
       "<table border=\"1\" class=\"dataframe\">\n",
       "  <thead>\n",
       "    <tr style=\"text-align: right;\">\n",
       "      <th></th>\n",
       "      <th>A</th>\n",
       "    </tr>\n",
       "  </thead>\n",
       "  <tbody>\n",
       "  </tbody>\n",
       "</table>\n",
       "</div>"
      ],
      "text/plain": [
       "Empty DataFrame\n",
       "Columns: [A]\n",
       "Index: []"
      ]
     },
     "execution_count": 45,
     "metadata": {},
     "output_type": "execute_result"
    }
   ],
   "source": [
    "index = np.arange(10)\n",
    "df_ = pd.DataFrame(columns=['A'])"
   ]
  },
  {
   "cell_type": "code",
   "execution_count": null,
   "metadata": {},
   "outputs": [],
   "source": [
    "pd.concat([pd.DataFrame([i], columns=['A']) for i in range(5)], ignore_index=True)"
   ]
  },
  {
   "cell_type": "code",
   "execution_count": 4,
   "metadata": {},
   "outputs": [],
   "source": [
    "df_img = pd.DataFrame(columns=['A'])"
   ]
  },
  {
   "cell_type": "code",
   "execution_count": 8,
   "metadata": {},
   "outputs": [],
   "source": [
    "def dgts_array(r_dgts):\n",
    "    '''all digits to one array'''\n",
    "    m = []\n",
    "    for i in r_dgts:\n",
    "        for s in i.split():\n",
    "            '''print s'''\n",
    "            t = list(s)\n",
    "            for j in t:\n",
    "                if j.isdigit():\n",
    "                    m.append(int(j))\n",
    "    return m"
   ]
  },
  {
   "cell_type": "code",
   "execution_count": 9,
   "metadata": {},
   "outputs": [],
   "source": [
    "b = dgts_array(a)"
   ]
  },
  {
   "cell_type": "code",
   "execution_count": 10,
   "metadata": {},
   "outputs": [],
   "source": [
    "np.savetxt('sampler1.csv', b, fmt=\"%s\", delimiter=',')"
   ]
  },
  {
   "cell_type": "code",
   "execution_count": 17,
   "metadata": {},
   "outputs": [],
   "source": [
    "df_sampler = pd.DataFrame(data=b)\n",
    "df_sampler.to_csv(\"sampler_1.csv\", sep=',', index=False)"
   ]
  },
  {
   "cell_type": "code",
   "execution_count": 18,
   "metadata": {
    "collapsed": true
   },
   "outputs": [
    {
     "name": "stdout",
     "output_type": "stream",
     "text": [
      "0\n",
      "1\n",
      "2\n",
      "3\n",
      "4\n",
      "5\n",
      "6\n",
      "7\n",
      "8\n",
      "9\n"
     ]
    }
   ],
   "source": [
    "for i in xrange(0,10):\n",
    "    print i"
   ]
  },
  {
   "cell_type": "code",
   "execution_count": 37,
   "metadata": {
    "collapsed": true
   },
   "outputs": [
    {
     "name": "stdout",
     "output_type": "stream",
     "text": [
      "0    2192949935501716900190050603100169660050016003...\n",
      "Name: 0, dtype: object\n",
      "0    2192949515501729617002800150004500100005500000...\n",
      "Name: 1, dtype: object\n",
      "0    2192949915861715001500150044335600000161150060...\n",
      "Name: 2, dtype: object\n",
      "0    1406320032004060285700000034332003099208172019...\n",
      "Name: 3, dtype: object\n",
      "0    2197949355081711515000150001500013393000000160...\n",
      "Name: 4, dtype: object\n",
      "0    2192949915561713500075001100020000900000090014...\n",
      "Name: 5, dtype: object\n",
      "0    2192949915501731600160016001429000001711600160...\n",
      "Name: 6, dtype: object\n",
      "0    2192949975501713500280075001368001386001232190...\n",
      "Name: 7, dtype: object\n",
      "0    2192949945501712280044000000006006002600369920...\n",
      "Name: 8, dtype: object\n",
      "0    2142949315301711001200350075000122001220010893...\n",
      "Name: 9, dtype: object\n",
      "0    2197969915501713306120012001200000000129120616...\n",
      "Name: 10, dtype: object\n",
      "0    0219794917127615061500500035000000081611500000...\n",
      "Name: 11, dtype: object\n",
      "0    2205100066190011900119001062560060012781196026...\n",
      "Name: 12, dtype: object\n",
      "0    2197949918501720220004000400040035716000004294...\n",
      "Name: 13, dtype: object\n",
      "0    2192949915501711301306020200001500010000685000...\n",
      "Name: 14, dtype: object\n",
      "0    2192949915501714400700011400500003860010179000...\n",
      "Name: 15, dtype: object\n",
      "0    2192949928017345004506450040180003064450060030...\n",
      "Name: 16, dtype: object\n",
      "0    2192948955012370037001000009630033049006003963...\n",
      "Name: 17, dtype: object\n",
      "0    2192949915841713090030642000228005600770010000...\n",
      "Name: 18, dtype: object\n",
      "0    2192949915501505000050005000960000536500016063...\n",
      "Name: 19, dtype: object\n",
      "0    2192949915591712220004000100100001400010000068...\n",
      "Name: 20, dtype: object\n",
      "0    2192949915508171200440096800100003200600000026...\n",
      "Name: 21, dtype: object\n",
      "0    2192949915501100100001000010006892900090010711...\n",
      "Name: 22, dtype: object\n",
      "0    2199953917130302020005000500000000053650002600...\n",
      "Name: 23, dtype: object\n",
      "0    2192941900010001000960008010716001600309920817...\n",
      "Name: 24, dtype: object\n",
      "0    2192948915591718103862500356411003700730010000...\n",
      "Name: 25, dtype: object\n",
      "0    2492949955617152840000040060400603571450042864...\n",
      "Name: 26, dtype: object\n",
      "0    2197949918501710085500606290039000114001270006...\n",
      "Name: 27, dtype: object\n",
      "0    2192949915598171349410006005890026003099206172...\n",
      "Name: 28, dtype: object\n",
      "0    2192949915501505000500050006000005365036992729...\n",
      "Name: 29, dtype: object\n",
      "0    2192969173700750007000186200200001800110001950...\n",
      "Name: 30, dtype: object\n",
      "0    2192949915512023600360040003214000000386360009...\n",
      "Name: 31, dtype: object\n",
      "0    2192949955071542064200102006000375000000045042...\n",
      "Name: 32, dtype: object\n",
      "0    2192949417131604450019005025000100001640040000...\n",
      "Name: 33, dtype: object\n",
      "0    2132949911713900390050001700348290000390060309...\n",
      "Name: 34, dtype: object\n",
      "0    2192949911745001300560010000420051790000006215...\n",
      "Name: 35, dtype: object\n",
      "0    2192949915256400640010000360657149009006866400...\n",
      "Name: 36, dtype: object\n",
      "0    5780072009082600126005060031125000013500000054...\n",
      "Name: 37, dtype: object\n",
      "0    4625230070009900100001001002883910640000054990...\n",
      "Name: 38, dtype: object\n",
      "0    5038675004353500437632009200100000406090800382...\n",
      "Name: 39, dtype: object\n",
      "0    3064999251200714464000173600000549864701060097...\n",
      "Name: 40, dtype: object\n",
      "0    5240024005000600221436000054989470100097891140...\n",
      "Name: 41, dtype: object\n",
      "0    9902157800280026001250000000549854701000978871...\n",
      "Name: 42, dtype: object\n",
      "0    5110628003312004000400000023571000429000005498...\n",
      "Name: 43, dtype: object\n",
      "0    1800328500815009000900028036000005498247010600...\n",
      "Name: 44, dtype: object\n",
      "0    3941297299202724554844242084000041121817201143...\n",
      "Name: 45, dtype: object\n",
      "0    8274100027927720272081702945545746241001121008...\n",
      "Name: 46, dtype: object\n",
      "0    7181235067003020000000081720192154331623686136...\n",
      "Name: 47, dtype: object\n",
      "0    1812350670030200000000817201921543310236861364...\n",
      "Name: 48, dtype: object\n",
      "0    1812350670030200000000817201922242223387001364...\n",
      "Name: 49, dtype: object\n",
      "0    7181235067003020000006081720192229161023693364...\n",
      "Name: 50, dtype: object\n",
      "0    1812350670030200000000817201922345823387090136...\n",
      "Name: 51, dtype: object\n",
      "0    1812350670030200000000817201922345823387090136...\n",
      "Name: 52, dtype: object\n",
      "0    7181235067003020000000081720192109062338680136...\n",
      "Name: 53, dtype: object\n",
      "0    7181235067003020000000081720192202121102634013...\n",
      "Name: 54, dtype: object\n",
      "0    7181235067003020000000081720192141001102621136...\n",
      "Name: 55, dtype: object\n",
      "0    1812350670030200000000817201921515111026271364...\n",
      "Name: 56, dtype: object\n",
      "0    7181235067003020000000081720192236592338711364...\n",
      "Name: 57, dtype: object\n",
      "0    7181235067003020000000081720192104152338676136...\n",
      "Name: 58, dtype: object\n",
      "0    1812350670030200000000817201921275623386860136...\n",
      "Name: 59, dtype: object\n",
      "0    1812350670030200000000817201920593320641753644...\n",
      "Name: 60, dtype: object\n",
      "0    1812350670030200000000817201921031223386740136...\n",
      "Name: 61, dtype: object\n",
      "0    7181235067003029000000081720192041122338649364...\n",
      "Name: 62, dtype: object\n",
      "0    7181235067003020000000081720192056022338666136...\n",
      "Name: 63, dtype: object\n",
      "0    7181235067003020600000081720192031052338638136...\n",
      "Name: 64, dtype: object\n",
      "0    1812350670030200000000817201920552723386650136...\n",
      "Name: 65, dtype: object\n",
      "0    7181235067003020000000081720192056592338668136...\n",
      "Name: 66, dtype: object\n",
      "0    1812350670030200000000817201921320623386910136...\n",
      "Name: 67, dtype: object\n",
      "0    7181235067003020000000081720192048402338657136...\n",
      "Name: 68, dtype: object\n",
      "0    7181235067003020000000081720191954071102556013...\n",
      "Name: 69, dtype: object\n",
      "0    7181235067030200000000817201920485723386581364...\n",
      "Name: 70, dtype: object\n",
      "0    7181235067003020000000081720192014081102570136...\n",
      "Name: 71, dtype: object\n",
      "0    1812350670030200000000817201920070110236820136...\n",
      "Name: 72, dtype: object\n",
      "0    1812350670030200000000817201920143111025711364...\n",
      "Name: 73, dtype: object\n",
      "0    7181235667003020000000081720192230302338706136...\n",
      "Name: 74, dtype: object\n",
      "0    7181235067003020000000081720192231472338707136...\n",
      "Name: 75, dtype: object\n",
      "0    7181235067003020000000081720192006321102567136...\n",
      "Name: 76, dtype: object\n",
      "0    7181235067003020000000081720192024231102581136...\n",
      "Name: 77, dtype: object\n",
      "0    1812350670030200000000817201920505823386611364...\n",
      "Name: 78, dtype: object\n",
      "0    1812350670030200000000817201920191611025771364...\n",
      "Name: 79, dtype: object\n",
      "0    7181235067003020000000081720192026341102583136...\n",
      "Name: 80, dtype: object\n",
      "0    7181235067003026000000081720192026031102582136...\n",
      "Name: 81, dtype: object\n",
      "0    7181235067003020000000081720192031172338639136...\n",
      "Name: 82, dtype: object\n",
      "0    7181235067003020000000081720192015501102573136...\n",
      "Name: 83, dtype: object\n",
      "0    7181235067003062000000008172019195926110256113...\n",
      "Name: 84, dtype: object\n",
      "0    7181235067003020000000081720191923212338626013...\n",
      "Name: 85, dtype: object\n",
      "0    7181235067003020000000081720191923072338625013...\n",
      "Name: 86, dtype: object\n",
      "0    7181235067003020000000081720192028282064173136...\n",
      "Name: 87, dtype: object\n",
      "0    1812350670030200000000817201920583623386701364...\n",
      "Name: 88, dtype: object\n",
      "0    1812350670030200000000817201919350323386320136...\n",
      "Name: 89, dtype: object\n",
      "0    7181235067003020000000081720192225432338701013...\n",
      "Name: 90, dtype: object\n",
      "0    7181235067003020000000081720192226552338702136...\n",
      "Name: 91, dtype: object\n",
      "0    7181235067003020000000081720192222272338698136...\n",
      "Name: 92, dtype: object\n",
      "0    7181235067003020000000081720192223192338699450...\n",
      "Name: 93, dtype: object\n",
      "0    7181235067003020000000817201922282023387041364...\n",
      "Name: 94, dtype: object\n",
      "0    7181235067003029000000008172019222722233870301...\n",
      "Name: 95, dtype: object\n",
      "0    7181235067003020000000081720192154091102629136...\n",
      "Name: 96, dtype: object\n",
      "0    1812350670030200000000817201922293723387051364...\n",
      "Name: 97, dtype: object\n",
      "0    7181235067003020000000081720191913262064168136...\n",
      "Name: 98, dtype: object\n",
      "0    7181235067003020000000081720191919292338624136...\n",
      "Name: 99, dtype: object\n",
      "0    7181235067003020000000081720191928562338629136...\n",
      "Name: 100, dtype: object\n",
      "0    7181235067003020000000081720192049402338660136...\n",
      "Name: 101, dtype: object\n",
      "0    7181235067003020000000081720192049192338659013...\n",
      "Name: 102, dtype: object\n",
      "0    7181235067003620000000081720191916402338622136...\n",
      "Name: 103, dtype: object\n",
      "0    7000390189149112908182019093749110198902566404...\n",
      "Name: 104, dtype: object\n",
      "0    7000390189149112908182019092606110198225660402...\n",
      "Name: 105, dtype: object\n",
      "0    7000390189149171790818201909264311019830256604...\n",
      "Name: 106, dtype: object\n",
      "0    7000390189149129871820191018360256621706701110...\n",
      "Name: 107, dtype: object\n",
      "0    0003901891491129081820190957261102005566404021...\n",
      "Name: 108, dtype: object\n",
      "0    0003901891491291821018261202256617062011100423...\n",
      "Name: 109, dtype: object\n",
      "0    7000390189149129841820191293211021052566217062...\n",
      "Name: 110, dtype: object\n",
      "0    7000124081829170828110208225664040217062011100...\n",
      "Name: 111, dtype: object\n",
      "0    7000390189149112908182019103136110704256640217...\n",
      "Name: 112, dtype: object\n",
      "0    0039018914911298182019112851110210456617062011...\n",
      "Name: 113, dtype: object\n",
      "0    7000390189143112908182019092417110198025664040...\n",
      "Name: 114, dtype: object\n",
      "0    5000396189144411290818201910077471307016629664...\n",
      "Name: 115, dtype: object\n",
      "0    7000390189149112908182019100847110201725661706...\n",
      "Name: 116, dtype: object\n",
      "0    0039018914911290818201910105211020156170620111...\n",
      "Name: 117, dtype: object\n",
      "0    7000390189145112908182018101324110202125662170...\n",
      "Name: 118, dtype: object\n",
      "0    7000390189149112908182019092902110198525664040...\n",
      "Name: 119, dtype: object\n",
      "0    7000390189149129081820191010051016858256642170...\n",
      "Name: 120, dtype: object\n",
      "0    7039018914511290818201910144311020232566001706...\n",
      "Name: 121, dtype: object\n",
      "0    7000390189149112908182019105924110206975664170...\n",
      "Name: 122, dtype: object\n",
      "0    0003901891491129081820191007301102015256640402...\n",
      "Name: 123, dtype: object\n",
      "0    7000390189149112908182019094404110199525664021...\n",
      "Name: 124, dtype: object\n",
      "0    0003901891491129081820191101081102071664040217...\n",
      "Name: 125, dtype: object\n",
      "0    7000390189149112908182019105825110206725664021...\n",
      "Name: 126, dtype: object\n",
      "0    0003901891491129081820191142201102115256640402...\n",
      "Name: 127, dtype: object\n",
      "0    6003901891491129081820190103645110203956617082...\n",
      "Name: 128, dtype: object\n",
      "0    7000390189144112908182019103556110205002566040...\n",
      "Name: 129, dtype: object\n",
      "0    0003901891491129081820191758141102121256604217...\n",
      "Name: 130, dtype: object\n",
      "0    0003901891491129818201911244521025664040217062...\n",
      "Name: 131, dtype: object\n",
      "0    7000340189149112908182019142302210577925664040...\n",
      "Name: 132, dtype: object\n",
      "0    7000390189149129081820191144341102117617062011...\n",
      "Name: 133, dtype: object\n",
      "0    7003901891451129618201911020411020732566404021...\n",
      "Name: 134, dtype: object\n",
      "0    7003901891491129114047110211325661706201110042...\n",
      "Name: 135, dtype: object\n",
      "0    0003961891191290818201914225011021002566402170...\n",
      "Name: 136, dtype: object\n",
      "0    0003901891491290818201911065411020792566217062...\n",
      "Name: 137, dtype: object\n",
      "0    7000390189149129081820191058461102068256617062...\n",
      "Name: 138, dtype: object\n",
      "0    7403901891451129081820191404401102078680172011...\n",
      "Name: 139, dtype: object\n",
      "0    7000390189149112981820191119351102345664040217...\n",
      "Name: 140, dtype: object\n",
      "0    7000390189145112908182019114352110211625664040...\n",
      "Name: 141, dtype: object\n",
      "0    7000390189149112908182019113215451102098261706...\n"
     ]
    },
    {
     "name": "stdout",
     "output_type": "stream",
     "text": [
      "Name: 142, dtype: object\n",
      "0    7000390189149129081820191138561102110256640402...\n",
      "Name: 143, dtype: object\n",
      "0    7000390189149112908182619184411020922566217062...\n",
      "Name: 144, dtype: object\n",
      "0    7000390189149129081820191139251102411256640217...\n",
      "Name: 145, dtype: object\n",
      "0    7276000192294366377182019101381010198052772760...\n",
      "Name: 146, dtype: object\n",
      "0    7115001922942563471820199371150949937642111500\n",
      "Name: 147, dtype: object\n",
      "0    7100001922942505221820199351000956156205810600\n",
      "Name: 148, dtype: object\n",
      "0    7665001922943772751720191047093558863826650000...\n",
      "Name: 149, dtype: object\n",
      "0    5400019223434623918201910060078401501710999996...\n",
      "Name: 150, dtype: object\n",
      "0    75000001922942176461820199250945118714250001\n",
      "Name: 151, dtype: object\n",
      "0    750001922944041521820191027092601608705600\n",
      "Name: 152, dtype: object\n",
      "0    7950001922943724581820191016100784015017070701...\n",
      "Name: 153, dtype: object\n"
     ]
    }
   ],
   "source": [
    "m_all = []\n",
    "for i in xrange(0,154):\n",
    "    j = df.iloc[i]\n",
    "    print j\n",
    "    k = dgts_array(j)\n",
    "    m_all.append(k)"
   ]
  },
  {
   "cell_type": "code",
   "execution_count": 39,
   "metadata": {},
   "outputs": [],
   "source": [
    "df_all = pd.DataFrame(data=m_all)\n",
    "df_all.to_csv(\"all.csv\", sep=',', index=False)"
   ]
  },
  {
   "cell_type": "code",
   "execution_count": 40,
   "metadata": {},
   "outputs": [
    {
     "data": {
      "text/plain": [
       "(154, 223)"
      ]
     },
     "execution_count": 40,
     "metadata": {},
     "output_type": "execute_result"
    }
   ],
   "source": [
    "df_all.shape"
   ]
  },
  {
   "cell_type": "code",
   "execution_count": 66,
   "metadata": {},
   "outputs": [],
   "source": [
    "def dgts_all(r_df):\n",
    "    '''all digits to one array'''\n",
    "    m_all = []\n",
    "    for l in xrange(0, 154):\n",
    "        j = r_df.iloc[l]\n",
    "        for i in j:\n",
    "            for s in i.split():\n",
    "                '''print s'''\n",
    "                t = list(s)\n",
    "                for u in t:\n",
    "                    if u.isdigit():\n",
    "                        m_all.append(int(u))\n",
    "    print len(m_all)\n",
    "    return m_all"
   ]
  },
  {
   "cell_type": "code",
   "execution_count": 67,
   "metadata": {},
   "outputs": [
    {
     "name": "stdout",
     "output_type": "stream",
     "text": [
      "26352\n"
     ]
    }
   ],
   "source": [
    "df_a = dgts_all(df)"
   ]
  },
  {
   "cell_type": "code",
   "execution_count": 68,
   "metadata": {},
   "outputs": [],
   "source": [
    "df_all = pd.DataFrame(data=df_a)\n",
    "df_all.to_csv(\"all_1.csv\", sep=',', index=False)"
   ]
  },
  {
   "cell_type": "code",
   "execution_count": 69,
   "metadata": {},
   "outputs": [
    {
     "data": {
      "text/plain": [
       "(26352, 1)"
      ]
     },
     "execution_count": 69,
     "metadata": {},
     "output_type": "execute_result"
    }
   ],
   "source": [
    "df_all.shape"
   ]
  },
  {
   "cell_type": "code",
   "execution_count": null,
   "metadata": {},
   "outputs": [],
   "source": []
  }
 ],
 "metadata": {
  "kernelspec": {
   "display_name": "Python 2",
   "language": "python",
   "name": "python2"
  },
  "language_info": {
   "codemirror_mode": {
    "name": "ipython",
    "version": 2
   },
   "file_extension": ".py",
   "mimetype": "text/x-python",
   "name": "python",
   "nbconvert_exporter": "python",
   "pygments_lexer": "ipython2",
   "version": "2.7.16"
  }
 },
 "nbformat": 4,
 "nbformat_minor": 2
}
