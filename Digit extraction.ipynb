{
 "cells": [
  {
   "cell_type": "code",
   "execution_count": 7,
   "metadata": {},
   "outputs": [],
   "source": [
    "from PIL import Image\n",
    "import pytesseract\n",
    "import numpy as np"
   ]
  },
  {
   "cell_type": "markdown",
   "metadata": {},
   "source": [
    "## Processing images to extract digits\n",
    "\n",
    "1. I scanned all receipts from convenience stores, 7-11 and Mini Stop.\n",
    "2. Scanned images are binarized in .bmp format.\n",
    "3. I separated each receipt into a .png file.\n",
    "4. I test for a set of images.\n",
    "5. I wrote a script to automate the process.\n",
    "6. The output is a .csv file of numbers for each receipt."
   ]
  },
  {
   "cell_type": "markdown",
   "metadata": {},
   "source": [
    "### Extract characters from an image"
   ]
  },
  {
   "cell_type": "code",
   "execution_count": 2,
   "metadata": {},
   "outputs": [],
   "source": [
    "receipt_text = (pytesseract.image_to_string(Image.open('receipts/receipt_1a.png')))"
   ]
  },
  {
   "cell_type": "markdown",
   "metadata": {},
   "source": [
    "### Extract digits from string of characters"
   ]
  },
  {
   "cell_type": "code",
   "execution_count": 3,
   "metadata": {},
   "outputs": [
    {
     "name": "stdout",
     "output_type": "stream",
     "text": [
      "\n",
      "2192949935501716900190050603100169660050016003099208172619153427001156520000042667711600034527300025857230731201246870205326005564\n"
     ]
    }
   ],
   "source": [
    "q = \"\"\n",
    "print q\n",
    "for i in receipt_text:\n",
    "    for s in i.split():\n",
    "        '''print s'''\n",
    "        t = list(s)\n",
    "        for j in t:\n",
    "            if j.isdigit():\n",
    "                '''print j'''\n",
    "                q += j\n",
    "                \n",
    "print q"
   ]
  },
  {
   "cell_type": "markdown",
   "metadata": {},
   "source": [
    "### Save digit extraction to file\n",
    "The following includes functions to (a) read and process image to string, (b) extract digits from string."
   ]
  },
  {
   "cell_type": "code",
   "execution_count": 8,
   "metadata": {},
   "outputs": [],
   "source": [
    "def img_str(fname):\n",
    "    '''convert image to string'''\n",
    "    r_txt = (pytesseract.image_to_string(Image.open(str(fname))))\n",
    "    return r_txt\n",
    "\n",
    "def str_dgts(r_txt):\n",
    "    '''extract digits only'''\n",
    "    d = \"\"\n",
    "    for i in r_txt:\n",
    "        for s in i.split():\n",
    "            '''print s'''\n",
    "            t = list(s)\n",
    "            for j in t:\n",
    "                if j.isdigit():\n",
    "                    '''print j'''\n",
    "                    d += j\n",
    "    return d"
   ]
  },
  {
   "cell_type": "markdown",
   "metadata": {},
   "source": [
    "Read an image and extract characters and digits. Print extracted (a) characters, (b) digits."
   ]
  },
  {
   "cell_type": "code",
   "execution_count": 25,
   "metadata": {
    "collapsed": true
   },
   "outputs": [
    {
     "name": "stdout",
     "output_type": "stream",
     "text": [
      "= MINISTOP =\n",
      "\n",
      "CONSOLIOATED GLOBAL. seroers INC.\n",
      "VAT REG TIN 219-294-993 -550\n",
      "SNIT #17 LA FUERZA 1 cM CHINO ROCES\n",
      "\n",
      "AVE. BRGY. BANGKAL HAKATI CITY\n",
      "\n",
      " \n",
      "\n",
      "Bus fn: enna ene\n",
      "SEL. i CKO 6b $9.00 V\n",
      "TOTAL P19.00\n",
      "CASH P50.60\n",
      "Change 31.00\n",
      "JEG UGB GGG UR AUG RIOR OO\n",
      "Vatable ~ 16.96\n",
      "VAT Exempt Saies 6.00\n",
      "Zera Rated Sales Q. i\n",
      "vAT\n",
      "Total 5. 00\n",
      "\n",
      "FEO OGIO OIGEIG RI TORK A ORICA OE\n",
      "Total Itens: 1\n",
      "cashier: 6003 Jaypee Briones\n",
      "\n",
      "Str No: 0992 Bate: 08/17/2619 Tine: 15:34:27\n",
      "Terminal Ne: 001 Trans 1D: 5652\n",
      "\n",
      "This serves as your Sales Invois\n",
      "\n",
      "SI No: 0000042667\n",
      "\n",
      "JSC EEE OCR EES\n",
      "Exchange of item for reasans other than\n",
      "those pravideo under the Custoner Act\n",
      "will only be allowed within 7 days\n",
      "\n",
      "frow date of purchase. .\n",
      "\n",
      "Please present this Sales Invoice.\n",
      "\n",
      "JAE GOO EGE O III IO TOE AS\n",
      "Rabinsea's Incorporated\n",
      "\n",
      "Robinson's Place W.Adriatico Ernita ALA\n",
      "ACCDIN NG. : 116-000345273-000258-57230\n",
      "ACCOTN Bae eee Ae vali Until 7/31/20\n",
      "\n",
      "124687\n",
      "ae. 0205326 -00556\n",
      "(ALL BE VALID FOR FIYE(S)\n",
      "DATE QF PERHIT TO USE\n",
      "\n",
      "Met nears\n",
      "=es-a\n",
      "w\n",
      "\n",
      "4 \n",
      "2192949935501716900190050603100169660050016003099208172619153427001156520000042667711600034527300025857230731201246870205326005564\n"
     ]
    }
   ],
   "source": [
    "string1 = img_str('receipts/receipt_1a.png')\n",
    "digits1 = str_dgts(string1)\n",
    "print string1, '\\n', digits1"
   ]
  },
  {
   "cell_type": "markdown",
   "metadata": {},
   "source": [
    "Save string of digits to file"
   ]
  },
  {
   "cell_type": "code",
   "execution_count": 44,
   "metadata": {},
   "outputs": [],
   "source": [
    "digits = np.array([digits1])\n",
    "np.savetxt('receipts.csv', digits, fmt=\"%s\", delimiter=',')"
   ]
  },
  {
   "cell_type": "markdown",
   "metadata": {},
   "source": [
    "### Automate for set of images"
   ]
  },
  {
   "cell_type": "code",
   "execution_count": 6,
   "metadata": {},
   "outputs": [],
   "source": [
    "import os\n",
    "def read_all_files(directory):\n",
    "    return [open(f) for f in os.listdir(directory) if f.endswith(\".png\")]"
   ]
  },
  {
   "cell_type": "code",
   "execution_count": 37,
   "metadata": {
    "collapsed": true
   },
   "outputs": [
    {
     "name": "stdout",
     "output_type": "stream",
     "text": [
      "receipts/receipt_001.png\n",
      "receipts/receipt_002.png\n",
      "receipts/receipt_003.png\n",
      "receipts/receipt_004.png\n",
      "receipts/receipt_005.png\n",
      "receipts/receipt_006.png\n",
      "receipts/receipt_007.png\n",
      "receipts/receipt_008.png\n",
      "receipts/receipt_009.png\n"
     ]
    }
   ],
   "source": [
    "dgts_all = []\n",
    "for i in xrange(1,10):\n",
    "    f = 'receipts/receipt_00%s.png' % i\n",
    "    string = img_str(f)\n",
    "    digits = str_dgts(string)\n",
    "    print f\n",
    "    dgts_all.append(digits)"
   ]
  },
  {
   "cell_type": "code",
   "execution_count": 42,
   "metadata": {
    "collapsed": true
   },
   "outputs": [
    {
     "data": {
      "text/plain": [
       "9"
      ]
     },
     "execution_count": 42,
     "metadata": {},
     "output_type": "execute_result"
    }
   ],
   "source": [
    "len(dgts_all)"
   ]
  },
  {
   "cell_type": "code",
   "execution_count": 43,
   "metadata": {
    "collapsed": true
   },
   "outputs": [
    {
     "name": "stdout",
     "output_type": "stream",
     "text": [
      "receipts/receipt_010.png\n",
      "receipts/receipt_011.png\n",
      "receipts/receipt_012.png\n",
      "receipts/receipt_013.png\n",
      "receipts/receipt_014.png\n",
      "receipts/receipt_015.png\n",
      "receipts/receipt_016.png\n",
      "receipts/receipt_017.png\n",
      "receipts/receipt_018.png\n",
      "receipts/receipt_019.png\n",
      "receipts/receipt_020.png\n",
      "receipts/receipt_021.png\n",
      "receipts/receipt_022.png\n",
      "receipts/receipt_023.png\n",
      "receipts/receipt_024.png\n",
      "receipts/receipt_025.png\n",
      "receipts/receipt_026.png\n",
      "receipts/receipt_027.png\n",
      "receipts/receipt_028.png\n",
      "receipts/receipt_029.png\n",
      "receipts/receipt_030.png\n",
      "receipts/receipt_031.png\n",
      "receipts/receipt_032.png\n",
      "receipts/receipt_033.png\n",
      "receipts/receipt_034.png\n",
      "receipts/receipt_035.png\n",
      "receipts/receipt_036.png\n",
      "receipts/receipt_037.png\n",
      "receipts/receipt_038.png\n",
      "receipts/receipt_039.png\n",
      "receipts/receipt_040.png\n",
      "receipts/receipt_041.png\n",
      "receipts/receipt_042.png\n",
      "receipts/receipt_043.png\n",
      "receipts/receipt_044.png\n",
      "receipts/receipt_045.png\n",
      "receipts/receipt_046.png\n",
      "receipts/receipt_047.png\n",
      "receipts/receipt_048.png\n",
      "receipts/receipt_049.png\n",
      "receipts/receipt_050.png\n",
      "receipts/receipt_051.png\n",
      "receipts/receipt_052.png\n",
      "receipts/receipt_053.png\n",
      "receipts/receipt_054.png\n",
      "receipts/receipt_055.png\n",
      "receipts/receipt_056.png\n",
      "receipts/receipt_057.png\n",
      "receipts/receipt_058.png\n",
      "receipts/receipt_059.png\n",
      "receipts/receipt_060.png\n",
      "receipts/receipt_061.png\n",
      "receipts/receipt_062.png\n",
      "receipts/receipt_063.png\n",
      "receipts/receipt_064.png\n",
      "receipts/receipt_065.png\n",
      "receipts/receipt_066.png\n",
      "receipts/receipt_067.png\n",
      "receipts/receipt_068.png\n",
      "receipts/receipt_069.png\n",
      "receipts/receipt_070.png\n",
      "receipts/receipt_071.png\n",
      "receipts/receipt_072.png\n",
      "receipts/receipt_073.png\n",
      "receipts/receipt_074.png\n",
      "receipts/receipt_075.png\n",
      "receipts/receipt_076.png\n",
      "receipts/receipt_077.png\n",
      "receipts/receipt_078.png\n",
      "receipts/receipt_079.png\n",
      "receipts/receipt_080.png\n",
      "receipts/receipt_081.png\n",
      "receipts/receipt_082.png\n",
      "receipts/receipt_083.png\n",
      "receipts/receipt_084.png\n",
      "receipts/receipt_085.png\n",
      "receipts/receipt_086.png\n",
      "receipts/receipt_087.png\n",
      "receipts/receipt_088.png\n",
      "receipts/receipt_089.png\n",
      "receipts/receipt_090.png\n",
      "receipts/receipt_091.png\n",
      "receipts/receipt_092.png\n",
      "receipts/receipt_093.png\n",
      "receipts/receipt_094.png\n",
      "receipts/receipt_095.png\n",
      "receipts/receipt_096.png\n",
      "receipts/receipt_097.png\n",
      "receipts/receipt_098.png\n",
      "receipts/receipt_099.png\n"
     ]
    },
    {
     "data": {
      "text/plain": [
       "99"
      ]
     },
     "execution_count": 43,
     "metadata": {},
     "output_type": "execute_result"
    }
   ],
   "source": [
    "for i in xrange(10,100):\n",
    "    f = 'receipts/receipt_0%s.png' % i\n",
    "    string = img_str(f)\n",
    "    digits = str_dgts(string)\n",
    "    print f\n",
    "    dgts_all.append(digits)\n",
    "len(dgts_all)"
   ]
  },
  {
   "cell_type": "code",
   "execution_count": 45,
   "metadata": {
    "collapsed": true
   },
   "outputs": [
    {
     "name": "stdout",
     "output_type": "stream",
     "text": [
      "receipts/receipt_100.png\n",
      "receipts/receipt_101.png\n",
      "receipts/receipt_102.png\n",
      "receipts/receipt_103.png\n",
      "receipts/receipt_104.png\n",
      "receipts/receipt_105.png\n",
      "receipts/receipt_106.png\n",
      "receipts/receipt_107.png\n",
      "receipts/receipt_108.png\n",
      "receipts/receipt_109.png\n",
      "receipts/receipt_110.png\n",
      "receipts/receipt_111.png\n",
      "receipts/receipt_112.png\n",
      "receipts/receipt_113.png\n",
      "receipts/receipt_114.png\n",
      "receipts/receipt_115.png\n",
      "receipts/receipt_116.png\n",
      "receipts/receipt_117.png\n",
      "receipts/receipt_118.png\n",
      "receipts/receipt_119.png\n",
      "receipts/receipt_120.png\n",
      "receipts/receipt_121.png\n",
      "receipts/receipt_122.png\n",
      "receipts/receipt_123.png\n",
      "receipts/receipt_124.png\n",
      "receipts/receipt_125.png\n",
      "receipts/receipt_126.png\n",
      "receipts/receipt_127.png\n",
      "receipts/receipt_128.png\n",
      "receipts/receipt_129.png\n",
      "receipts/receipt_130.png\n",
      "receipts/receipt_131.png\n",
      "receipts/receipt_132.png\n",
      "receipts/receipt_133.png\n",
      "receipts/receipt_134.png\n",
      "receipts/receipt_135.png\n",
      "receipts/receipt_136.png\n",
      "receipts/receipt_137.png\n",
      "receipts/receipt_138.png\n",
      "receipts/receipt_139.png\n",
      "receipts/receipt_140.png\n",
      "receipts/receipt_141.png\n",
      "receipts/receipt_142.png\n",
      "receipts/receipt_143.png\n",
      "receipts/receipt_144.png\n",
      "receipts/receipt_145.png\n",
      "receipts/receipt_146.png\n",
      "receipts/receipt_147.png\n",
      "receipts/receipt_148.png\n",
      "receipts/receipt_149.png\n",
      "receipts/receipt_150.png\n",
      "receipts/receipt_151.png\n",
      "receipts/receipt_152.png\n",
      "receipts/receipt_153.png\n",
      "receipts/receipt_154.png\n"
     ]
    },
    {
     "data": {
      "text/plain": [
       "154"
      ]
     },
     "execution_count": 45,
     "metadata": {},
     "output_type": "execute_result"
    }
   ],
   "source": [
    "for i in xrange(100,155):\n",
    "    f = 'receipts/receipt_%s.png' % i\n",
    "    string = img_str(f)\n",
    "    digits = str_dgts(string)\n",
    "    print f\n",
    "    dgts_all.append(digits)\n",
    "len(dgts_all)"
   ]
  },
  {
   "cell_type": "code",
   "execution_count": 47,
   "metadata": {},
   "outputs": [],
   "source": [
    "import pandas"
   ]
  },
  {
   "cell_type": "code",
   "execution_count": 48,
   "metadata": {},
   "outputs": [],
   "source": [
    "df = pandas.DataFrame(data=dgts_all)\n",
    "df.to_csv(\"digits.csv\", sep=',', index=False)"
   ]
  },
  {
   "cell_type": "code",
   "execution_count": 49,
   "metadata": {},
   "outputs": [
    {
     "data": {
      "text/plain": [
       "u'2192949935501716900190050603100169660050016003099208172619153427001156520000042667711600034527300025857230731201246870205326005564'"
      ]
     },
     "execution_count": 49,
     "metadata": {},
     "output_type": "execute_result"
    }
   ],
   "source": [
    "dgts_all[0]"
   ]
  },
  {
   "cell_type": "code",
   "execution_count": null,
   "metadata": {},
   "outputs": [],
   "source": []
  }
 ],
 "metadata": {
  "kernelspec": {
   "display_name": "Python 2",
   "language": "python",
   "name": "python2"
  },
  "language_info": {
   "codemirror_mode": {
    "name": "ipython",
    "version": 2
   },
   "file_extension": ".py",
   "mimetype": "text/x-python",
   "name": "python",
   "nbconvert_exporter": "python",
   "pygments_lexer": "ipython2",
   "version": "2.7.16"
  }
 },
 "nbformat": 4,
 "nbformat_minor": 2
}
